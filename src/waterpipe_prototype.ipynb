{
 "cells": [
  {
   "cell_type": "markdown",
   "metadata": {},
   "source": [
    "Prototype for water cycle post-processing pipeline.\n",
    "First, import the necessary packages and load colormaps:"
   ]
  },
  {
   "cell_type": "code",
   "execution_count": null,
   "metadata": {},
   "outputs": [],
   "source": [
    "import os, iris\n",
    "import matplotlib.pyplot as plt\n",
    "import matplotlib.cm as mpl_cm\n",
    "import iris.plot as iplot\n",
    "\n",
    "brewer_red = mpl_cm.get_cmap('brewer_YlOrRed_09')\n",
    "brewer_bg = mpl_cm.get_cmap('brewer_PuBu_09')\n",
    "brewer_reds = mpl_cm.get_cmap('brewer_Reds_09')"
   ]
  },
  {
   "cell_type": "markdown",
   "metadata": {},
   "source": [
    "Block 1: Load UM output PP files into an Iris cube"
   ]
  },
  {
   "cell_type": "code",
   "execution_count": null,
   "metadata": {},
   "outputs": [],
   "source": [
    "directory = 'R:/um_data/one_eighty_days/raw/'\n",
    "\n",
    "filenames = os.listdir(directory)\n",
    "print(filenames)\n",
    "\n",
    "allfiles = []\n",
    "for entry in filenames:\n",
    "    fullpath = os.path.join(directory,entry)\n",
    "    allfiles.append(fullpath)\n",
    "    \n",
    "cubes = iris.load(allfiles)\n",
    "\n",
    "for cube in cubes:\n",
    "    if cube.has_lazy_data() == True:\n",
    "        cube.data\n",
    "    else:\n",
    "        pass"
   ]
  },
  {
   "cell_type": "markdown",
   "metadata": {},
   "source": [
    "Block 2: Generate plots"
   ]
  },
  {
   "cell_type": "code",
   "execution_count": null,
   "metadata": {},
   "outputs": [],
   "source": []
  }
 ],
 "metadata": {
  "kernelspec": {
   "display_name": "Python 3",
   "language": "python",
   "name": "python3"
  },
  "language_info": {
   "codemirror_mode": {
    "name": "ipython",
    "version": 3
   },
   "file_extension": ".py",
   "mimetype": "text/x-python",
   "name": "python",
   "nbconvert_exporter": "python",
   "pygments_lexer": "ipython3",
   "version": "3.8.5"
  }
 },
 "nbformat": 4,
 "nbformat_minor": 4
}
